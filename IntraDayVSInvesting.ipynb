{
 "metadata": {
  "language_info": {
   "codemirror_mode": {
    "name": "ipython",
    "version": 3
   },
   "file_extension": ".py",
   "mimetype": "text/x-python",
   "name": "python",
   "nbconvert_exporter": "python",
   "pygments_lexer": "ipython3",
   "version": "3.8.5-final"
  },
  "orig_nbformat": 2,
  "kernelspec": {
   "name": "python3",
   "display_name": "Python 3"
  }
 },
 "nbformat": 4,
 "nbformat_minor": 2,
 "cells": [
  {
   "cell_type": "code",
   "execution_count": 1,
   "metadata": {},
   "outputs": [],
   "source": [
    "from os import walk\n",
    "import pandas as pd\n",
    "import numpy as np\n",
    "import math"
   ]
  },
  {
   "cell_type": "code",
   "execution_count": 2,
   "metadata": {},
   "outputs": [],
   "source": [
    "f = []\n",
    "files = []"
   ]
  },
  {
   "cell_type": "code",
   "execution_count": 3,
   "metadata": {},
   "outputs": [],
   "source": [
    "for (dirpath, dirnames, filenames) in walk(f\"DataSets/INDIAFinal\"):\n",
    "    f.extend(filenames)\n",
    "    break"
   ]
  },
  {
   "cell_type": "code",
   "execution_count": 4,
   "metadata": {},
   "outputs": [
    {
     "output_type": "stream",
     "name": "stdout",
     "text": [
      "100\n"
     ]
    }
   ],
   "source": [
    "print(len(f))"
   ]
  },
  {
   "cell_type": "code",
   "execution_count": 5,
   "metadata": {},
   "outputs": [],
   "source": [
    "for name in f:\n",
    "    files.append(pd.read_csv(f\"DataSets/INDIAFinal/{name}\"))"
   ]
  },
  {
   "cell_type": "code",
   "execution_count": 6,
   "metadata": {},
   "outputs": [
    {
     "output_type": "stream",
     "name": "stdout",
     "text": [
      "100\n"
     ]
    }
   ],
   "source": [
    "print(len(f))"
   ]
  },
  {
   "cell_type": "code",
   "execution_count": 7,
   "metadata": {},
   "outputs": [],
   "source": [
    "profitsDict = {}\n",
    "totalIntradayProfitOfAllCompanies = list()\n",
    "totalInvestingProfitOfAllCompanies = list()"
   ]
  },
  {
   "cell_type": "code",
   "execution_count": 8,
   "metadata": {},
   "outputs": [],
   "source": [
    "for i in range(0, len(files)):\n",
    "    columns = files[i].get([\"Date\", \"Open\", \"Close\"])\n",
    "    datesAsNumpy = columns.Date.array.to_numpy()\n",
    "    index = np.where(datesAsNumpy == \"2019-09-25\")\n",
    "    closeAsNumpy = columns.Close.array.to_numpy()\n",
    "    openAsNumpy = columns.Open.array.to_numpy()\n",
    "    startingCloseValue = closeAsNumpy[index]\n",
    "    endingCloseValue = closeAsNumpy[-1]\n",
    "    startingToClosingCloseValues = closeAsNumpy[index[0].tolist()[0]:-1]\n",
    "    startingToClosingOpenValues = openAsNumpy[index[0].tolist()[0]:-1]\n",
    "\n",
    "    totalIntradayProfit = 0\n",
    "    for index1 in range(0, len(startingToClosingCloseValues)):\n",
    "        if not math.isnan(startingToClosingOpenValues[index1]) and not math.isnan(startingToClosingCloseValues[index1]):\n",
    "            totalIntradayProfit += (startingToClosingCloseValues[index1] - startingToClosingOpenValues[index1])\n",
    "    totalIntradayProfitOfAllCompanies.append(totalIntradayProfit)\n",
    "    totalInvestingProfitOfAllCompanies.append(endingCloseValue - startingCloseValue[0])\n",
    "\n",
    "\n"
   ]
  },
  {
   "cell_type": "code",
   "execution_count": 9,
   "metadata": {},
   "outputs": [],
   "source": [
    "profitsDict = {\"Name\": f, \"Intraday\": totalIntradayProfitOfAllCompanies,\n",
    "               \"Investing\": totalInvestingProfitOfAllCompanies}"
   ]
  },
  {
   "cell_type": "code",
   "execution_count": 10,
   "metadata": {},
   "outputs": [],
   "source": [
    "df = pd.DataFrame(profitsDict)\n",
    "df.to_csv(path_or_buf=\"DataSets/FinalProfits/FinalProfits.csv\")"
   ]
  },
  {
   "cell_type": "code",
   "execution_count": null,
   "metadata": {},
   "outputs": [],
   "source": []
  }
 ]
}